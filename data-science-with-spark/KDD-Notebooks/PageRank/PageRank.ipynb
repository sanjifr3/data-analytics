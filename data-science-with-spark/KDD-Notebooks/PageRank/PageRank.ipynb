{
 "cells": [
  {
   "cell_type": "code",
   "execution_count": 1,
   "metadata": {
    "collapsed": false
   },
   "outputs": [
    {
     "name": "stdout",
     "output_type": "stream",
     "text": [
      "Welcome to\n",
      "      ____              __\n",
      "     / __/__  ___ _____/ /__\n",
      "    _\\ \\/ _ \\/ _ `/ __/  '_/\n",
      "   /__ / .__/\\_,_/_/ /_/\\_\\   version 1.4.1\n",
      "      /_/\n",
      "\n",
      "Using Python version 2.7.10 (default, May 28 2015 17:04:42)\n",
      "SparkContext available as sc, HiveContext available as sqlContext.\n"
     ]
    }
   ],
   "source": [
    "import os\n",
    "import sys\n",
    "spark_home = os.environ['SPARK_HOME'] = '/Users/liang/Downloads/spark-1.4.1-bin-hadoop2.6/'\n",
    "if not spark_home:\n",
    "    raise ValueError('SPARK_HOME enviroment variable is not set')\n",
    "sys.path.insert(0,os.path.join(spark_home,'python'))\n",
    "sys.path.insert(0,os.path.join(spark_home,'python/lib/py4j-0.8.2.1-src.zip'))\n",
    "execfile(os.path.join(spark_home,'python/pyspark/shell.py'))"
   ]
  },
  {
   "cell_type": "code",
   "execution_count": 2,
   "metadata": {
    "collapsed": false
   },
   "outputs": [
    {
     "name": "stdout",
     "output_type": "stream",
     "text": [
      "Overwriting PageRank.txt\n"
     ]
    }
   ],
   "source": [
    "%%writefile PageRank.txt\n",
    "1:2,3\n",
    "2:3,4\n",
    "3:5\n",
    "4:6\n",
    "5:1,4\n",
    "6:5"
   ]
  },
  {
   "cell_type": "code",
   "execution_count": 3,
   "metadata": {
    "collapsed": false
   },
   "outputs": [
    {
     "name": "stdout",
     "output_type": "stream",
     "text": [
      "[(u'3', 0.7451283237792715), (u'6', 1.0798511456610982), (u'1', 0.8630224597866966), (u'4', 1.0854830772456592), (u'5', 1.703847287206964), (u'2', 0.5226677063203089)]\n"
     ]
    }
   ],
   "source": [
    "def computeContribs(urls, rank):\n",
    "    num_urls = len(urls)\n",
    "    for url in urls:\n",
    "        yield (url, rank / num_urls)\n",
    "        \n",
    "def parseDataGraph(line):\n",
    "    fields = line.split(':')\n",
    "    return(fields[0], fields[1].split(','))\n",
    "\n",
    "links = sc.textFile(\"PageRank.txt\").map(parseDataGraph).cache()\n",
    "ranks = links.map(lambda (url, neighbors): (url, 1.0))\n",
    "for iteration in xrange(10):\n",
    "    contribs = links.join(ranks).flatMap(lambda (url, (urls, rank)): computeContribs(urls, rank))\n",
    "    ranks = contribs.reduceByKey(lambda x,y: x + y).mapValues(lambda rank: rank * 0.85 + 0.15)\n",
    "print ranks.collect()\n",
    "sc.stop()"
   ]
  }
 ],
 "metadata": {
  "kernelspec": {
   "display_name": "Python 2",
   "language": "python",
   "name": "python2"
  },
  "language_info": {
   "codemirror_mode": {
    "name": "ipython",
    "version": 2
   },
   "file_extension": ".py",
   "mimetype": "text/x-python",
   "name": "python",
   "nbconvert_exporter": "python",
   "pygments_lexer": "ipython2",
   "version": "2.7.10"
  }
 },
 "nbformat": 4,
 "nbformat_minor": 0
}
