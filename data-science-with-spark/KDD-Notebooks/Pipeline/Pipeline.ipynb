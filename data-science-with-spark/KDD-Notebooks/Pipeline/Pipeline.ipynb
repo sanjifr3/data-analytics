{
 "cells": [
  {
   "cell_type": "code",
   "execution_count": 1,
   "metadata": {
    "collapsed": false
   },
   "outputs": [
    {
     "name": "stdout",
     "output_type": "stream",
     "text": [
      "Welcome to\n",
      "      ____              __\n",
      "     / __/__  ___ _____/ /__\n",
      "    _\\ \\/ _ \\/ _ `/ __/  '_/\n",
      "   /__ / .__/\\_,_/_/ /_/\\_\\   version 1.4.1\n",
      "      /_/\n",
      "\n",
      "Using Python version 2.7.10 (default, May 28 2015 17:04:42)\n",
      "SparkContext available as sc, HiveContext available as sqlContext.\n"
     ]
    }
   ],
   "source": [
    "import os\n",
    "import sys\n",
    "spark_home = os.environ['SPARK_HOME'] = '/Users/liang/Downloads/spark-1.4.1-bin-hadoop2.6/'\n",
    "if not spark_home:\n",
    "    raise ValueError('SPARK_HOME enviroment variable is not set')\n",
    "sys.path.insert(0,os.path.join(spark_home,'python'))\n",
    "sys.path.insert(0,os.path.join(spark_home,'python/lib/py4j-0.8.2.1-src.zip'))\n",
    "execfile(os.path.join(spark_home,'python/pyspark/shell.py'))"
   ]
  },
  {
   "cell_type": "code",
   "execution_count": 2,
   "metadata": {
    "collapsed": false
   },
   "outputs": [],
   "source": [
    "from __future__ import print_function\n",
    "from pyspark import SparkContext\n",
    "from pyspark.ml import Pipeline\n",
    "from pyspark.ml.classification import LogisticRegression\n",
    "from pyspark.ml.feature import HashingTF, Tokenizer\n",
    "from pyspark.sql import Row\n",
    "from pyspark.ml.tuning import CrossValidator, ParamGridBuilder\n",
    "from pyspark.ml.evaluation import BinaryClassificationEvaluator"
   ]
  },
  {
   "cell_type": "code",
   "execution_count": 3,
   "metadata": {
    "collapsed": false
   },
   "outputs": [
    {
     "data": {
      "text/plain": [
       "[Row(id=0, text=u'a b c d e spark', label=1.0),\n",
       " Row(id=1, text=u'b d', label=0.0),\n",
       " Row(id=2, text=u'spark f g h', label=1.0),\n",
       " Row(id=3, text=u'hadoop mapreduce', label=0.0),\n",
       " Row(id=4, text=u'b spark who', label=1.0),\n",
       " Row(id=5, text=u'g d a y', label=0.0),\n",
       " Row(id=6, text=u'spark fly', label=1.0),\n",
       " Row(id=7, text=u'was mapreduce', label=0.0),\n",
       " Row(id=8, text=u'e spark program', label=1.0),\n",
       " Row(id=9, text=u'a e c l', label=0.0),\n",
       " Row(id=10, text=u'spark compile', label=1.0),\n",
       " Row(id=11, text=u'hadoop software', label=0.0)]"
      ]
     },
     "execution_count": 3,
     "metadata": {},
     "output_type": "execute_result"
    }
   ],
   "source": [
    "# Prepare training documents, which are labeled.\n",
    "LabeledDocument = Row(\"id\", \"text\", \"label\")\n",
    "training = sc.parallelize([(0, \"a b c d e spark\", 1.0),\n",
    "                           (1, \"b d\", 0.0),\n",
    "                           (2, \"spark f g h\", 1.0),\n",
    "                           (3, \"hadoop mapreduce\", 0.0),\n",
    "                           (4, \"b spark who\", 1.0),\n",
    "                           (5, \"g d a y\", 0.0),\n",
    "                           (6, \"spark fly\", 1.0),\n",
    "                           (7, \"was mapreduce\", 0.0),\n",
    "                           (8, \"e spark program\", 1.0),\n",
    "                           (9, \"a e c l\", 0.0),\n",
    "                           (10, \"spark compile\", 1.0),\n",
    "                           (11, \"hadoop software\", 0.0)\n",
    "                           ]) \\\n",
    "    .map(lambda x: LabeledDocument(*x)).toDF()\n",
    "training.collect()"
   ]
  },
  {
   "cell_type": "code",
   "execution_count": 4,
   "metadata": {
    "collapsed": true
   },
   "outputs": [],
   "source": [
    "# Configure an ML pipeline, which consists of tree stages: tokenizer, hashingTF, and lr.\n",
    "tokenizer = Tokenizer(inputCol=\"text\", outputCol=\"words\")\n",
    "hashingTF = HashingTF(inputCol=tokenizer.getOutputCol(), outputCol=\"features\")\n",
    "lr = LogisticRegression(maxIter=10) # L2 regularization\n",
    "pipeline = Pipeline(stages=[tokenizer, hashingTF, lr])"
   ]
  },
  {
   "cell_type": "code",
   "execution_count": 5,
   "metadata": {
    "collapsed": true
   },
   "outputs": [],
   "source": [
    "# Use a ParamGridBuilder to construct a grid of parameters to search over.\n",
    "paramGrid = ParamGridBuilder() \\\n",
    "        .addGrid(hashingTF.numFeatures, [10, 100, 1000]) \\\n",
    "        .addGrid(lr.regParam, [0.1, 0.01]) \\\n",
    "        .build()"
   ]
  },
  {
   "cell_type": "code",
   "execution_count": 6,
   "metadata": {
    "collapsed": false
   },
   "outputs": [],
   "source": [
    "# Run cross-validation, and choose the best set of parameters.\n",
    "crossval = CrossValidator(estimator=pipeline,\n",
    "                              estimatorParamMaps=paramGrid,\n",
    "                              evaluator=BinaryClassificationEvaluator(),\n",
    "                              numFolds=2)  # use 3+ folds in practice\n",
    "cvModel = crossval.fit(training)\n"
   ]
  },
  {
   "cell_type": "code",
   "execution_count": 7,
   "metadata": {
    "collapsed": false
   },
   "outputs": [
    {
     "name": "stdout",
     "output_type": "stream",
     "text": [
      "Row(id=4, text=u'spark i j k', prediction=1.0)\n",
      "Row(id=5, text=u'l m n', prediction=0.0)\n",
      "Row(id=6, text=u'spark hadoop spark', prediction=1.0)\n",
      "Row(id=7, text=u'apache hadoop', prediction=0.0)\n"
     ]
    }
   ],
   "source": [
    "# Prepare test documents, which are unlabeled.\n",
    "Document = Row(\"id\", \"text\")\n",
    "test = sc.parallelize([(4, \"spark i j k\"),\n",
    "                       (5, \"l m n\"),\n",
    "                       (6, \"spark hadoop spark\"),\n",
    "                       (7, \"apache hadoop\")]) \\\n",
    "    .map(lambda x: Document(*x)).toDF()\n",
    "\n",
    "# Make predictions on test documents and print columns of interest.\n",
    "prediction = cvModel.transform(test)\n",
    "selected = prediction.select(\"id\", \"text\", \"prediction\")\n",
    "for row in selected.collect():\n",
    "    print(row)\n",
    "\n",
    "sc.stop()"
   ]
  }
 ],
 "metadata": {
  "kernelspec": {
   "display_name": "Python 2",
   "language": "python",
   "name": "python2"
  },
  "language_info": {
   "codemirror_mode": {
    "name": "ipython",
    "version": 2
   },
   "file_extension": ".py",
   "mimetype": "text/x-python",
   "name": "python",
   "nbconvert_exporter": "python",
   "pygments_lexer": "ipython2",
   "version": "2.7.10"
  }
 },
 "nbformat": 4,
 "nbformat_minor": 0
}
